{
 "cells": [
  {
   "cell_type": "code",
   "id": "initial_id",
   "metadata": {
    "collapsed": true,
    "ExecuteTime": {
     "end_time": "2025-07-25T03:49:24.088486Z",
     "start_time": "2025-07-25T03:49:23.939356Z"
    }
   },
   "source": [
    "import numpy as np\n",
    "from numpy.conftest import dtype\n",
    "\n",
    "arr = np.arange(10)\n",
    "print(arr.ndim)"
   ],
   "outputs": [
    {
     "name": "stdout",
     "output_type": "stream",
     "text": [
      "1\n"
     ]
    }
   ],
   "execution_count": 2
  },
  {
   "metadata": {
    "ExecuteTime": {
     "end_time": "2025-07-25T03:04:12.775695Z",
     "start_time": "2025-07-25T03:04:12.772033Z"
    }
   },
   "cell_type": "code",
   "source": [
    "arrs=np.array([1,2,3,4,5])#这是一维数组\n",
    "print(arrs)\n",
    "print(arrs.ndim)"
   ],
   "id": "8daa1a2403f19021",
   "outputs": [
    {
     "name": "stdout",
     "output_type": "stream",
     "text": [
      "[1 2 3 4 5]\n",
      "1\n"
     ]
    }
   ],
   "execution_count": 9
  },
  {
   "metadata": {
    "ExecuteTime": {
     "end_time": "2025-07-25T03:08:37.418710Z",
     "start_time": "2025-07-25T03:08:37.414464Z"
    }
   },
   "cell_type": "code",
   "source": [
    "arr3=np.array([[1,2],[9,7]])#二维的数组\n",
    "print(arr3)\n",
    "print(arr3.ndim)"
   ],
   "id": "7300cceafd0cf227",
   "outputs": [
    {
     "name": "stdout",
     "output_type": "stream",
     "text": [
      "[[1 2]\n",
      " [9 7]]\n",
      "2\n"
     ]
    }
   ],
   "execution_count": 11
  },
  {
   "metadata": {},
   "cell_type": "markdown",
   "source": "同质性，不同的类型会强制转为统一类型",
   "id": "3b61c353c913e980"
  },
  {
   "metadata": {
    "ExecuteTime": {
     "end_time": "2025-07-25T03:13:11.867959Z",
     "start_time": "2025-07-25T03:13:11.864932Z"
    }
   },
   "cell_type": "code",
   "source": [
    "arr=np.array([1,'hello'])\n",
    "print(arr)"
   ],
   "id": "5fd96ddf1d07c156",
   "outputs": [
    {
     "name": "stdout",
     "output_type": "stream",
     "text": [
      "['1' 'hello']\n"
     ]
    }
   ],
   "execution_count": 13
  },
  {
   "metadata": {},
   "cell_type": "markdown",
   "source": "ndarry的属性常用的",
   "id": "10c2104046babd25"
  },
  {
   "metadata": {
    "ExecuteTime": {
     "end_time": "2025-07-25T03:28:20.943185Z",
     "start_time": "2025-07-25T03:28:20.939675Z"
    }
   },
   "cell_type": "code",
   "source": [
    "arr=np.array([[1,2],[9,7]])\n",
    "print(arr.ndim)#维度\n",
    "print(arr.shape)#数组的形状\n",
    "print(arr.size)#大小\n",
    "print(arr.dtype)#类型\n",
    "print(arr.itemsize)#元素大小\n",
    "print(arr.nbytes)#占用内存大小\n",
    "print(arr.T)#数组的转置"
   ],
   "id": "743b736cae53259b",
   "outputs": [
    {
     "name": "stdout",
     "output_type": "stream",
     "text": [
      "2\n",
      "(2, 2)\n",
      "4\n",
      "int64\n",
      "8\n",
      "32\n",
      "[[1 9]\n",
      " [2 7]]\n"
     ]
    }
   ],
   "execution_count": 14
  },
  {
   "metadata": {},
   "cell_type": "markdown",
   "source": "## 3.ndarry的数组创建",
   "id": "4b3f9db8de0e2bf7"
  },
  {
   "metadata": {
    "ExecuteTime": {
     "end_time": "2025-07-25T03:34:19.857884Z",
     "start_time": "2025-07-25T03:34:19.854457Z"
    }
   },
   "cell_type": "code",
   "source": [
    "##基础的创建\n",
    "lis=[[1,2],[9,7]]\n",
    "lis2=[1,2]\n",
    "#arry=np.array(lis)\n",
    "arr=np.array(lis2)\n",
    "print(arr)"
   ],
   "id": "fdce3450f8aeb145",
   "outputs": [
    {
     "name": "stdout",
     "output_type": "stream",
     "text": [
      "[1 2]\n"
     ]
    }
   ],
   "execution_count": 23
  },
  {
   "metadata": {
    "ExecuteTime": {
     "end_time": "2025-07-25T03:46:48.582355Z",
     "start_time": "2025-07-25T03:46:48.580016Z"
    }
   },
   "cell_type": "code",
   "source": [
    "#预定于数组全0或者全1\n",
    "arr=np.zeros((3,4),dtype=int)#写的是数组的形状\n",
    "print(arr)"
   ],
   "id": "453667423effb59d",
   "outputs": [
    {
     "name": "stdout",
     "output_type": "stream",
     "text": [
      "[[0 0 0 0]\n",
      " [0 0 0 0]\n",
      " [0 0 0 0]]\n"
     ]
    }
   ],
   "execution_count": 26
  },
  {
   "metadata": {
    "ExecuteTime": {
     "end_time": "2025-07-25T03:47:41.644537Z",
     "start_time": "2025-07-25T03:47:41.641029Z"
    }
   },
   "cell_type": "code",
   "source": [
    "#全1\n",
    "arr=np.ones((3,4),dtype=float)\n",
    "print(arr)"
   ],
   "id": "87b11fe77c577f92",
   "outputs": [
    {
     "name": "stdout",
     "output_type": "stream",
     "text": [
      "[[1. 1. 1. 1.]\n",
      " [1. 1. 1. 1.]\n",
      " [1. 1. 1. 1.]]\n"
     ]
    }
   ],
   "execution_count": 27
  },
  {
   "metadata": {
    "ExecuteTime": {
     "end_time": "2025-07-25T03:49:28.534475Z",
     "start_time": "2025-07-25T03:49:28.530477Z"
    }
   },
   "cell_type": "code",
   "source": [
    "#为空  实际使用过程中不推荐使用\n",
    "arrs=np.empty((3,4))\n",
    "print(arrs)"
   ],
   "id": "2220fc51ab125b34",
   "outputs": [
    {
     "name": "stdout",
     "output_type": "stream",
     "text": [
      "[[6.23042070e-307 4.67296746e-307 1.69121096e-306 1.16821131e-307]\n",
      " [8.34441742e-308 8.90104239e-307 1.33511290e-306 2.89275220e-307]\n",
      " [1.78022342e-306 2.22518251e-306 8.01097889e-307 9.50498564e-043]]\n"
     ]
    }
   ],
   "execution_count": 3
  },
  {
   "metadata": {
    "ExecuteTime": {
     "end_time": "2025-07-25T04:04:10.351675Z",
     "start_time": "2025-07-25T04:04:10.348657Z"
    }
   },
   "cell_type": "code",
   "source": [
    "arrys1=np.full((3,5),25)\n",
    "print(arrys1)"
   ],
   "id": "24b1de25529b2c52",
   "outputs": [
    {
     "name": "stdout",
     "output_type": "stream",
     "text": [
      "[[25 25 25 25 25]\n",
      " [25 25 25 25 25]\n",
      " [25 25 25 25 25]]\n"
     ]
    }
   ],
   "execution_count": 4
  },
  {
   "metadata": {
    "ExecuteTime": {
     "end_time": "2025-07-25T04:05:17.474310Z",
     "start_time": "2025-07-25T04:05:17.470921Z"
    }
   },
   "cell_type": "code",
   "source": [
    "arry2=np.zeros_like(arrys1)\n",
    "print(arry2)"
   ],
   "id": "9be6c9427d47593b",
   "outputs": [
    {
     "name": "stdout",
     "output_type": "stream",
     "text": [
      "[[0 0 0 0 0]\n",
      " [0 0 0 0 0]\n",
      " [0 0 0 0 0]]\n"
     ]
    }
   ],
   "execution_count": 5
  },
  {
   "metadata": {
    "ExecuteTime": {
     "end_time": "2025-07-25T04:14:39.841844Z",
     "start_time": "2025-07-25T04:14:39.838865Z"
    }
   },
   "cell_type": "code",
   "source": [
    "#等差数列\n",
    "arrs=np.arange(2,8,2)\n",
    "print(arrs)"
   ],
   "id": "5436e4506ee59a27",
   "outputs": [
    {
     "name": "stdout",
     "output_type": "stream",
     "text": [
      "[2 4 6]\n"
     ]
    }
   ],
   "execution_count": 6
  },
  {
   "metadata": {
    "ExecuteTime": {
     "end_time": "2025-07-25T04:18:26.576603Z",
     "start_time": "2025-07-25T04:18:26.573606Z"
    }
   },
   "cell_type": "code",
   "source": [
    "#等间隔数列\n",
    "arrs2=np.linspace(0,10,5) #分成5分\n",
    "print(arrs2)"
   ],
   "id": "d3f2102a4f0d013b",
   "outputs": [
    {
     "name": "stdout",
     "output_type": "stream",
     "text": [
      "[ 0.   2.5  5.   7.5 10. ]\n"
     ]
    }
   ],
   "execution_count": 11
  },
  {
   "metadata": {
    "ExecuteTime": {
     "end_time": "2025-07-25T04:22:02.819486Z",
     "start_time": "2025-07-25T04:22:02.816149Z"
    }
   },
   "cell_type": "code",
   "source": [
    "#对数间隔操作\n",
    "arry5=np.logspace(0,4,2,base=2)\n",
    "print(arry5)"
   ],
   "id": "9a033524a33e383f",
   "outputs": [
    {
     "name": "stdout",
     "output_type": "stream",
     "text": [
      "[ 1. 16.]\n"
     ]
    }
   ],
   "execution_count": 13
  },
  {
   "metadata": {
    "ExecuteTime": {
     "end_time": "2025-07-25T04:30:23.301964Z",
     "start_time": "2025-07-25T04:30:23.298955Z"
    }
   },
   "cell_type": "code",
   "source": [
    "#单位矩阵的构建\n",
    "arry11=np.eye(3,4,dtype=int)#这里的3,4不用给小括号，是指定行列的\n",
    "print(arry11)"
   ],
   "id": "524b9c73cb5f0c36",
   "outputs": [
    {
     "name": "stdout",
     "output_type": "stream",
     "text": [
      "[[1 0 0 0]\n",
      " [0 1 0 0]\n",
      " [0 0 1 0]]\n"
     ]
    }
   ],
   "execution_count": 17
  },
  {
   "metadata": {},
   "cell_type": "code",
   "outputs": [],
   "execution_count": null,
   "source": "",
   "id": "8515c6f34bf47a5"
  },
  {
   "metadata": {
    "ExecuteTime": {
     "end_time": "2025-07-25T04:34:18.295974Z",
     "start_time": "2025-07-25T04:34:18.292979Z"
    }
   },
   "cell_type": "code",
   "source": [
    "#对角矩阵的构建,主对角线上展示的数字\n",
    "arry12=np.diag([1,2,3])\n",
    "print(arry12)"
   ],
   "id": "423d3220563c81da",
   "outputs": [
    {
     "name": "stdout",
     "output_type": "stream",
     "text": [
      "[[1 0 0]\n",
      " [0 2 0]\n",
      " [0 0 3]]\n"
     ]
    }
   ],
   "execution_count": 25
  },
  {
   "metadata": {
    "ExecuteTime": {
     "end_time": "2025-07-25T05:11:14.342405Z",
     "start_time": "2025-07-25T05:11:14.338018Z"
    }
   },
   "cell_type": "code",
   "source": [
    "#生成0-1之间的均匀分布的随机数\n",
    "arry13=np.random.random((3,4))#生成3行四列的意思\n",
    "print(arry13)"
   ],
   "id": "b2c83d409c6794dd",
   "outputs": [
    {
     "name": "stdout",
     "output_type": "stream",
     "text": [
      "[[0.38690486 0.86662836 0.74692615 0.68876057]\n",
      " [0.27012044 0.77791229 0.57842108 0.83008264]\n",
      " [0.86684399 0.10841347 0.77433493 0.8056749 ]]\n"
     ]
    }
   ],
   "execution_count": 35
  },
  {
   "metadata": {
    "ExecuteTime": {
     "end_time": "2025-07-25T05:08:26.261286Z",
     "start_time": "2025-07-25T05:08:26.257281Z"
    }
   },
   "cell_type": "code",
   "source": [
    "#生成指定范围的随机数也是均匀分布\n",
    "arry14=np.random.uniform(1,4,size=(3,4))\n",
    "print(arry14)"
   ],
   "id": "d2163f363903e698",
   "outputs": [
    {
     "name": "stdout",
     "output_type": "stream",
     "text": [
      "[[1.64975686 2.63336993 2.55494312 3.47622746]\n",
      " [2.94750403 2.54239405 3.21322534 3.51343194]\n",
      " [3.01819392 1.79866172 3.95294686 3.0021631 ]]\n"
     ]
    }
   ],
   "execution_count": 33
  },
  {
   "metadata": {
    "ExecuteTime": {
     "end_time": "2025-07-25T05:12:34.138670Z",
     "start_time": "2025-07-25T05:12:34.135659Z"
    }
   },
   "cell_type": "code",
   "source": [
    "#整数的随机\n",
    "arry15=np.random.randint(3,9,(3,3))\n",
    "print(arry15)"
   ],
   "id": "ce81b43b84c20ecb",
   "outputs": [
    {
     "name": "stdout",
     "output_type": "stream",
     "text": [
      "[[3 3 3]\n",
      " [5 6 4]\n",
      " [4 3 6]]\n"
     ]
    }
   ],
   "execution_count": 37
  },
  {
   "metadata": {
    "ExecuteTime": {
     "end_time": "2025-07-25T05:15:41.235720Z",
     "start_time": "2025-07-25T05:15:41.232852Z"
    }
   },
   "cell_type": "code",
   "source": [
    "#正态分布 生成随机数列-3-3之间，两边小中间大\n",
    "arry16=np.random.randn(2,3)\n",
    "print(arry16)"
   ],
   "id": "d4a91cbe6c8c5fc",
   "outputs": [
    {
     "name": "stdout",
     "output_type": "stream",
     "text": [
      "[[-0.63029868 -0.41537925  0.18518669]\n",
      " [-0.28947756 -0.21429327  0.47619551]]\n"
     ]
    }
   ],
   "execution_count": 42
  },
  {
   "metadata": {
    "ExecuteTime": {
     "end_time": "2025-07-25T05:22:51.282445Z",
     "start_time": "2025-07-25T05:22:51.279547Z"
    }
   },
   "cell_type": "code",
   "source": [
    "#随机种子，主要是确保数组是一样的不随机变动\n",
    "np.random.seed(10)\n",
    "narry16=np.random.randint(1,10,(2,3))\n",
    "print(narry16)"
   ],
   "id": "5e9dfd0a9e9a6349",
   "outputs": [
    {
     "name": "stdout",
     "output_type": "stream",
     "text": [
      "[[5 1 2]\n",
      " [1 2 9]]\n"
     ]
    }
   ],
   "execution_count": 64
  },
  {
   "metadata": {},
   "cell_type": "markdown",
   "source": "# 5.索引与切片",
   "id": "d8b072ad6751ed54"
  },
  {
   "metadata": {
    "ExecuteTime": {
     "end_time": "2025-07-25T07:37:06.475321Z",
     "start_time": "2025-07-25T07:37:06.471266Z"
    }
   },
   "cell_type": "code",
   "source": [
    "arr17=np.random.randint(1,20,10)\n",
    "print(arr17)\n",
    "print(arr17[:])\n",
    "print(arr17[1:3])\n",
    "print(arr17[arr17>10])#条件找数据\n",
    "print(arr17[(arr17>18)&(arr17<20)])#多条件进行判断\n",
    "print(arr17[slice(2,5)])#分割跟索引效果类似"
   ],
   "id": "d5c930746e8b300a",
   "outputs": [
    {
     "name": "stdout",
     "output_type": "stream",
     "text": [
      "[17 19 17 15 16 18 19 15 17 11]\n",
      "[17 19 17 15 16 18 19 15 17 11]\n",
      "[19 17]\n",
      "[17 19 17 15 16 18 19 15 17 11]\n",
      "[19 19]\n",
      "[17 15 16]\n"
     ]
    }
   ],
   "execution_count": 73
  },
  {
   "metadata": {
    "ExecuteTime": {
     "end_time": "2025-07-25T07:51:41.547306Z",
     "start_time": "2025-07-25T07:51:41.543394Z"
    }
   },
   "cell_type": "code",
   "source": [
    "#二维数组的索引\n",
    "arry21=np.random.randint(1,20,(3,4))\n",
    "print(arry21)\n",
    "#print(arry21[arry21>15])\n",
    "print('-'*10)\n",
    "print(arry21[1,:])#一个控制行数一个控制列数\n",
    "print(arry21[2][arry21[2]>10])#获取行的数据"
   ],
   "id": "36cd0782a3b0547b",
   "outputs": [
    {
     "name": "stdout",
     "output_type": "stream",
     "text": [
      "[[ 1  8 11 17]\n",
      " [ 3  3 13 11]\n",
      " [16  1  6 17]]\n",
      "----------\n",
      "[ 3  3 13 11]\n",
      "[16 17]\n"
     ]
    }
   ],
   "execution_count": 88
  },
  {
   "metadata": {},
   "cell_type": "markdown",
   "source": "@是矩阵的乘法，*就是单纯的数组中的对应数据相乘",
   "id": "d879b018ffd23ddf"
  },
  {
   "metadata": {},
   "cell_type": "code",
   "outputs": [],
   "execution_count": null,
   "source": [
    "#矩阵乘法\n",
    "a=np.array([[1,2,3],[2,4,5],[4,5,6]])\n",
    "B=np.array([[1,2,3],[2,4,5],[1,2,3]])\n",
    "print(a)\n",
    "print('-'*20)\n",
    "print(B)\n",
    "print('-'*30)\n",
    "print(a@B)\n"
   ],
   "id": "a040f87599d23a25"
  },
  {
   "metadata": {},
   "cell_type": "code",
   "outputs": [],
   "execution_count": null,
   "source": "",
   "id": "c0264553f296ef0e"
  },
  {
   "metadata": {},
   "cell_type": "markdown",
   "source": "# 2.numpy中的基本数学函数的使用",
   "id": "96d361b4603c0611"
  },
  {
   "metadata": {},
   "cell_type": "code",
   "outputs": [],
   "execution_count": null,
   "source": [
    "#方差是var，标准差是std\n",
    "方差计算：每个数减去平均值相加的和除以数的个数，计算数据的离散程度"
   ],
   "id": "23bfc41c2fae8bb8"
  },
  {
   "metadata": {
    "ExecuteTime": {
     "end_time": "2025-07-25T09:04:13.746857Z",
     "start_time": "2025-07-25T09:04:13.743857Z"
    }
   },
   "cell_type": "code",
   "source": [
    "print(np.var([1,2,3]))\n",
    "print(np.std([1,2,3]))"
   ],
   "id": "45a7bf24bdbfe1c2",
   "outputs": [
    {
     "name": "stdout",
     "output_type": "stream",
     "text": [
      "0.6666666666666666\n",
      "0.816496580927726\n"
     ]
    }
   ],
   "execution_count": 101
  },
  {
   "metadata": {
    "ExecuteTime": {
     "end_time": "2025-07-25T09:42:21.909059Z",
     "start_time": "2025-07-25T09:42:21.893545Z"
    }
   },
   "cell_type": "code",
   "source": [
    "np.random.seed(0)\n",
    "list1=[44,47,64,67]\n",
    "print(np.percentile(list1,80))"
   ],
   "id": "6c6f3bbc6962295d",
   "outputs": [
    {
     "name": "stdout",
     "output_type": "stream",
     "text": [
      "65.2\n"
     ]
    }
   ],
   "execution_count": 102
  },
  {
   "metadata": {
    "ExecuteTime": {
     "end_time": "2025-07-25T13:21:25.836953Z",
     "start_time": "2025-07-25T13:21:25.833703Z"
    }
   },
   "cell_type": "code",
   "source": [
    "#检查所有元素是否都是真\n",
    "print(np.all([1,5,3,0]))\n",
    "print(np.any([1,5,3,0]))#是否有一个为真"
   ],
   "id": "5f7a9be71ab2bdf3",
   "outputs": [
    {
     "name": "stdout",
     "output_type": "stream",
     "text": [
      "False\n",
      "True\n"
     ]
    }
   ],
   "execution_count": 104
  },
  {
   "metadata": {},
   "cell_type": "code",
   "outputs": [],
   "execution_count": null,
   "source": [
    "#自定义条件，很容易可以做一些分类\n",
    "#where(条件，符合的，不符合的)\n"
   ],
   "id": "f4dc7c7f629e5f60"
  }
 ],
 "metadata": {
  "kernelspec": {
   "display_name": "Python 3",
   "language": "python",
   "name": "python3"
  },
  "language_info": {
   "codemirror_mode": {
    "name": "ipython",
    "version": 2
   },
   "file_extension": ".py",
   "mimetype": "text/x-python",
   "name": "python",
   "nbconvert_exporter": "python",
   "pygments_lexer": "ipython2",
   "version": "2.7.6"
  }
 },
 "nbformat": 4,
 "nbformat_minor": 5
}
