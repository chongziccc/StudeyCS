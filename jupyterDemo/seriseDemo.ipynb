{
 "cells": [
  {
   "cell_type": "code",
   "id": "initial_id",
   "metadata": {
    "collapsed": true,
    "ExecuteTime": {
     "end_time": "2025-07-26T11:58:06.429953Z",
     "start_time": "2025-07-26T11:58:06.426453Z"
    }
   },
   "source": [
    "import pandas as pd\n",
    "import numpy as np\n",
    "a=pd.Series([1,2,3],index=['a','b','c'],name='月份')#说明这一列的数据\n",
    "print(a)"
   ],
   "outputs": [
    {
     "name": "stdout",
     "output_type": "stream",
     "text": [
      "a    1\n",
      "b    2\n",
      "c    3\n",
      "Name: 月份, dtype: int64\n"
     ]
    }
   ],
   "execution_count": 19
  },
  {
   "metadata": {
    "ExecuteTime": {
     "end_time": "2025-07-26T10:38:05.149621Z",
     "start_time": "2025-07-26T10:38:05.146140Z"
    }
   },
   "cell_type": "code",
   "source": [
    "#用字典来进行赋值\n",
    "b=pd.Series({'a':1,'b':2,'c':3})\n",
    "print(b)\n",
    "s1=pd.Series(b,index=['a','c'])\n",
    "print(s1)"
   ],
   "id": "94f360361b2503b3",
   "outputs": [
    {
     "name": "stdout",
     "output_type": "stream",
     "text": [
      "a    1\n",
      "b    2\n",
      "c    3\n",
      "dtype: int64\n",
      "a    1\n",
      "c    3\n",
      "dtype: int64\n"
     ]
    }
   ],
   "execution_count": 8
  },
  {
   "metadata": {
    "ExecuteTime": {
     "end_time": "2025-07-26T12:23:42.291243Z",
     "start_time": "2025-07-26T12:23:42.278933Z"
    }
   },
   "cell_type": "code",
   "source": [
    "c=pd.Series([1,2,None,3,4,np.nan],index=['a','b','c','d','e','f'],name='data')\n",
    "print(c)\n",
    "# print(c.index)\n",
    "# print(c.values)\n",
    "# print(c.shape)\n",
    "# print(c.loc['a'])#显示索引根据标签\n",
    "# print(c.iloc[0])#隐式索引根据位置\n",
    "print(c.head(3))#返回前五行数据\n",
    "print(c.describe())"
   ],
   "id": "3c84c8cfab572d",
   "outputs": [
    {
     "name": "stdout",
     "output_type": "stream",
     "text": [
      "a    1.0\n",
      "b    2.0\n",
      "c    NaN\n",
      "d    3.0\n",
      "e    4.0\n",
      "f    NaN\n",
      "Name: data, dtype: float64\n",
      "a    1.0\n",
      "b    2.0\n",
      "c    NaN\n",
      "Name: data, dtype: float64\n",
      "count    4.000000\n",
      "mean     2.500000\n",
      "std      1.290994\n",
      "min      1.000000\n",
      "25%      1.750000\n",
      "50%      2.500000\n",
      "75%      3.250000\n",
      "max      4.000000\n",
      "Name: data, dtype: float64\n"
     ]
    }
   ],
   "execution_count": 29
  },
  {
   "metadata": {},
   "cell_type": "code",
   "source": [
    "#创建一个包含10名数学成绩的series，成绩范围在50-100之间，计算平均分、最高分、最低分、并找出高于平均分的学生人数\n",
    "s=pd.Series(np.random.randint(0,101,10),index=['学生'+str(i) for i in range(1,11)])\n",
    "print('平均分%s,最高分%s,最低分%s'%(s.mean(),s.max(),s.min()))\n",
    "print('高于平均分的人数%s'%(s>s.mean()).sum())\n",
    "#print('高于平均分的人数%s' %((s>s.mean()).sum()))\n",
    "s[s>s.mean()]\n",
    "print(s.max())\n",
    "print(s.min())\n",
    "print(s)"
   ],
   "id": "5a5a786fec43d028",
   "outputs": [],
   "execution_count": null
  },
  {
   "metadata": {
    "ExecuteTime": {
     "end_time": "2025-07-26T13:55:49.968247Z",
     "start_time": "2025-07-26T13:55:49.952161Z"
    }
   },
   "cell_type": "code",
   "source": [
    "date=pd.date_range('2025-01-01',periods=6)\n",
    "print(date)"
   ],
   "id": "cdbb810d3eabfce8",
   "outputs": [
    {
     "name": "stdout",
     "output_type": "stream",
     "text": [
      "DatetimeIndex(['2025-01-01', '2025-01-02', '2025-01-03', '2025-01-04',\n",
      "               '2025-01-05', '2025-01-06'],\n",
      "              dtype='datetime64[ns]', freq='D')\n"
     ]
    }
   ],
   "execution_count": 86
  }
 ],
 "metadata": {
  "kernelspec": {
   "display_name": "Python 3",
   "language": "python",
   "name": "python3"
  },
  "language_info": {
   "codemirror_mode": {
    "name": "ipython",
    "version": 2
   },
   "file_extension": ".py",
   "mimetype": "text/x-python",
   "name": "python",
   "nbconvert_exporter": "python",
   "pygments_lexer": "ipython2",
   "version": "2.7.6"
  }
 },
 "nbformat": 4,
 "nbformat_minor": 5
}
