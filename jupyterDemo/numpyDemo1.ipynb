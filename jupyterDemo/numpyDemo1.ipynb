{
 "cells": [
  {
   "metadata": {},
   "cell_type": "markdown",
   "source": [
    "# 1.ndarry\n",
    "## ndarry的特性\n",
    "### ndarry的多维性"
   ],
   "id": "8e27ee222008b193"
  },
  {
   "metadata": {
    "ExecuteTime": {
     "end_time": "2025-07-27T03:56:12.375218Z",
     "start_time": "2025-07-27T03:56:12.187045Z"
    }
   },
   "cell_type": "code",
   "source": "import numpy as np",
   "id": "b18e62a776dcc75d",
   "outputs": [],
   "execution_count": 2
  },
  {
   "metadata": {
    "ExecuteTime": {
     "end_time": "2025-07-30T08:00:17.404027Z",
     "start_time": "2025-07-30T08:00:17.047186Z"
    }
   },
   "cell_type": "code",
   "source": [
    "arr = np.arange(5)\n",
    "print(arr.ndim)\n",
    "np.linspace()"
   ],
   "id": "27108c5a4ccad1d0",
   "outputs": [
    {
     "ename": "NameError",
     "evalue": "name 'np' is not defined",
     "output_type": "error",
     "traceback": [
      "\u001B[31m---------------------------------------------------------------------------\u001B[39m",
      "\u001B[31mNameError\u001B[39m                                 Traceback (most recent call last)",
      "\u001B[36mCell\u001B[39m\u001B[36m \u001B[39m\u001B[32mIn[1]\u001B[39m\u001B[32m, line 1\u001B[39m\n\u001B[32m----> \u001B[39m\u001B[32m1\u001B[39m arr = np.arange(\u001B[32m5\u001B[39m)\n\u001B[32m      2\u001B[39m \u001B[38;5;28mprint\u001B[39m(arr.ndim)\n\u001B[32m      3\u001B[39m np.asarray(arr)\n",
      "\u001B[31mNameError\u001B[39m: name 'np' is not defined"
     ]
    }
   ],
   "execution_count": 1
  }
 ],
 "metadata": {
  "kernelspec": {
   "display_name": "Python 3",
   "language": "python",
   "name": "python3"
  },
  "language_info": {
   "codemirror_mode": {
    "name": "ipython",
    "version": 2
   },
   "file_extension": ".py",
   "mimetype": "text/x-python",
   "name": "python",
   "nbconvert_exporter": "python",
   "pygments_lexer": "ipython2",
   "version": "2.7.6"
  }
 },
 "nbformat": 4,
 "nbformat_minor": 5
}
