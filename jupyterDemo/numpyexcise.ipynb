{
 "cells": [
  {
   "metadata": {},
   "cell_type": "markdown",
   "source": [
    "    题目1：温度数据分析\n",
    "    某城市一周的最高气温为[28,30,29,31,32,30,29]\n",
    "    -计算平均气温，最高气温和最低气温\n",
    "    -找出气温超过30的天数"
   ],
   "id": "5c22e117ce18d82c"
  },
  {
   "metadata": {
    "ExecuteTime": {
     "end_time": "2025-07-26T09:08:43.940703Z",
     "start_time": "2025-07-26T09:08:43.753104Z"
    }
   },
   "cell_type": "code",
   "source": [
    "import numpy as np\n",
    "arrys2=np.array([28,30,29,31,32,30,29])\n",
    "print(np.average(arrys2))\n",
    "print(np.mean(arrys2))\n",
    "print(np.max(arrys2))\n",
    "print(np.min(arrys2))\n",
    "print(len(arrys2>30))\n",
    "print(len(arrys2[arrys2>30]))"
   ],
   "id": "2948f7b1a76104a0",
   "outputs": [
    {
     "name": "stdout",
     "output_type": "stream",
     "text": [
      "29.857142857142858\n",
      "29.857142857142858\n",
      "32\n",
      "28\n",
      "7\n",
      "2\n"
     ]
    }
   ],
   "execution_count": 2
  },
  {
   "metadata": {},
   "cell_type": "markdown",
   "source": [
    "题目2：学生成绩统计\n",
    "某班级5名学生的数学成绩为[85,90,78,92,88]\n",
    "-计算成绩的平均分，中位数和标准差\n",
    "-将成绩转为百分制(满分为100)"
   ],
   "id": "ba2436a217c54a33"
  },
  {
   "metadata": {
    "ExecuteTime": {
     "end_time": "2025-07-25T16:54:14.397322Z",
     "start_time": "2025-07-25T16:54:14.390490Z"
    }
   },
   "cell_type": "code",
   "source": [
    "score=np.array([85,90,78,92,88])\n",
    "print(np.mean(score))\n",
    "print(np.median(score))\n",
    "print('%.3f'%np.std(score))"
   ],
   "id": "f6c5a4291b8c2f87",
   "outputs": [
    {
     "name": "stdout",
     "output_type": "stream",
     "text": [
      "86.6\n",
      "88.0\n",
      "4.883\n"
     ]
    }
   ],
   "execution_count": 6
  },
  {
   "metadata": {},
   "cell_type": "markdown",
   "source": [
    "题目3 矩阵运算\n",
    "给定矩阵A=[[1,2],[3,4]]和B=[[5,6],[7,8]]\n",
    "-计算A+B和A*B逐元素乘法\n",
    "-计算A和B的矩阵乘法（点积）"
   ],
   "id": "51a627a58dd630a8"
  },
  {
   "metadata": {
    "ExecuteTime": {
     "end_time": "2025-07-25T17:19:07.635066Z",
     "start_time": "2025-07-25T17:19:07.629285Z"
    }
   },
   "cell_type": "code",
   "source": [
    "a=np.array([[1,2],[3,4]])\n",
    "b=np.array([[5,6],[7,8]])\n",
    "print(a@b)\n",
    "print(a+b)"
   ],
   "id": "7f326c6e21bf9800",
   "outputs": [
    {
     "name": "stdout",
     "output_type": "stream",
     "text": [
      "[[19 22]\n",
      " [43 50]]\n",
      "[[ 6  8]\n",
      " [10 12]]\n"
     ]
    }
   ],
   "execution_count": 11
  },
  {
   "metadata": {
    "ExecuteTime": {
     "end_time": "2025-07-27T03:56:02.561679Z",
     "start_time": "2025-07-27T03:56:02.270437Z"
    }
   },
   "cell_type": "code",
   "source": [
    "#题目4随机数据生成\n",
    "#生成一个（3,4）的随机整数数组，范围[0,10]\n",
    "#-计算每列最大值和每行最小值\n",
    "#-将数组中的所有奇数替换为-1\n",
    "np.random.seed(0)\n",
    "a=np.random.randint(0,10,(3,4))\n",
    "print(a)\n",
    "print(np.min(a))\n",
    "print(np.max(a,axis=0))##axis=0就是列=1就是行\n",
    "print(np.where(a%2==1,-1,a))"
   ],
   "id": "82be33ba97ab7490",
   "outputs": [
    {
     "ename": "NameError",
     "evalue": "name 'np' is not defined",
     "output_type": "error",
     "traceback": [
      "\u001B[31m---------------------------------------------------------------------------\u001B[39m",
      "\u001B[31mNameError\u001B[39m                                 Traceback (most recent call last)",
      "\u001B[36mCell\u001B[39m\u001B[36m \u001B[39m\u001B[32mIn[1]\u001B[39m\u001B[32m, line 5\u001B[39m\n\u001B[32m      1\u001B[39m \u001B[38;5;66;03m#题目4随机数据生成\u001B[39;00m\n\u001B[32m      2\u001B[39m \u001B[38;5;66;03m#生成一个（3,4）的随机整数数组，范围[0,10]\u001B[39;00m\n\u001B[32m      3\u001B[39m \u001B[38;5;66;03m#-计算每列最大值和每行最小值\u001B[39;00m\n\u001B[32m      4\u001B[39m \u001B[38;5;66;03m#-将数组中的所有奇数替换为-1\u001B[39;00m\n\u001B[32m----> \u001B[39m\u001B[32m5\u001B[39m np.random.seed(\u001B[32m0\u001B[39m)\n\u001B[32m      6\u001B[39m a=np.random.randint(\u001B[32m0\u001B[39m,\u001B[32m10\u001B[39m,(\u001B[32m3\u001B[39m,\u001B[32m4\u001B[39m))\n\u001B[32m      7\u001B[39m \u001B[38;5;28mprint\u001B[39m(a)\n",
      "\u001B[31mNameError\u001B[39m: name 'np' is not defined"
     ]
    }
   ],
   "execution_count": 1
  }
 ],
 "metadata": {
  "kernelspec": {
   "display_name": "Python 3",
   "language": "python",
   "name": "python3"
  },
  "language_info": {
   "codemirror_mode": {
    "name": "ipython",
    "version": 2
   },
   "file_extension": ".py",
   "mimetype": "text/x-python",
   "name": "python",
   "nbconvert_exporter": "python",
   "pygments_lexer": "ipython2",
   "version": "2.7.6"
  }
 },
 "nbformat": 4,
 "nbformat_minor": 5
}
